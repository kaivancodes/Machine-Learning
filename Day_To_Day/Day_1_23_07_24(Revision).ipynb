{
 "cells": [
  {
   "cell_type": "markdown",
   "id": "17dda8ac",
   "metadata": {},
   "source": [
    "# Revision\n",
    "## 23/7/24"
   ]
  },
  {
   "cell_type": "code",
   "execution_count": 94,
   "id": "d38ef542",
   "metadata": {},
   "outputs": [
    {
     "name": "stdout",
     "output_type": "stream",
     "text": [
      "Kaivan\n"
     ]
    }
   ],
   "source": [
    "print(\"Kaivan\")"
   ]
  },
  {
   "cell_type": "code",
   "execution_count": 95,
   "id": "c275e157",
   "metadata": {},
   "outputs": [
    {
     "name": "stdout",
     "output_type": "stream",
     "text": [
      "3.9.7\n"
     ]
    }
   ],
   "source": [
    "from platform import python_version\n",
    "print(python_version())"
   ]
  },
  {
   "cell_type": "code",
   "execution_count": 96,
   "id": "b7a74fb1",
   "metadata": {},
   "outputs": [
    {
     "name": "stdout",
     "output_type": "stream",
     "text": [
      "3.9.7 (default, Sep 16 2021, 16:59:28) [MSC v.1916 64 bit (AMD64)]\n"
     ]
    }
   ],
   "source": [
    "import sys\n",
    "print(sys.version)"
   ]
  },
  {
   "cell_type": "code",
   "execution_count": 97,
   "id": "141d03a9",
   "metadata": {},
   "outputs": [
    {
     "name": "stdout",
     "output_type": "stream",
     "text": [
      "List [5, 10, 10]\n",
      "List [5, 10]\n",
      "List [5, 10, 'Kaivan']\n",
      "List [5, 10, 'Kaivan', 'A']\n",
      "<class 'list'>\n"
     ]
    }
   ],
   "source": [
    "# List:It is Mutable\n",
    "I = []\n",
    "I.append(5)\n",
    "I.append(10)\n",
    "I.append(10)\n",
    "print(\"List\",I)\n",
    "I.pop()\n",
    "print(\"List\",I)\n",
    "I.append('Kaivan')\n",
    "print(\"List\",I)\n",
    "I.append('A')\n",
    "print(\"List\",I)\n",
    "print(type(I))"
   ]
  },
  {
   "cell_type": "code",
   "execution_count": 98,
   "id": "413f7571",
   "metadata": {},
   "outputs": [
    {
     "name": "stdout",
     "output_type": "stream",
     "text": [
      "('Apple', 'Banana', 'Mango', 'Cheeku')\n",
      "(1, 2, 3, 4)\n",
      "('Bhargav', 'Yashil', 'Vishwam', 'Aadi', 1, 2, 3, 4, 18, 17, 19, 20)\n",
      "('Hello', 1, 2, 3, 4, 'Mic Testing')\n",
      "(True, False, False, True)\n"
     ]
    }
   ],
   "source": [
    "#Tuples\n",
    "tuple1 = (\"Apple\",\"Banana\",\"Mango\",\"Cheeku\")\n",
    "print(tuple1)\n",
    "tuple2 = (1,2,3,4)\n",
    "tuple3 = (\"Bhargav\",\"Yashil\",\"Vishwam\",\"Aadi\",1,2,3,4,18,17,19,20)\n",
    "print(tuple2)\n",
    "print(tuple3)\n",
    "tuple4 = (\"Hello\",1,2,3,4,\"Mic Testing\")\n",
    "print(tuple4)\n",
    "tuple5 = (True,False,False,True)\n",
    "print(tuple5)\n",
    "#tuple1.append is not poosible as they are immutable(Non-Changeable)"
   ]
  },
  {
   "cell_type": "code",
   "execution_count": 99,
   "id": "f255911a",
   "metadata": {},
   "outputs": [
    {
     "name": "stdout",
     "output_type": "stream",
     "text": [
      "<class 'tuple'>\n",
      "Tuple= ('Kaivan', 'Kaivan', 'Loves', 'Mangoes')\n",
      "<class 'list'>\n",
      "List= ['Kaivan', 'Kaivan', 'Loves', 'Mangoes', 'Hi', 4]\n",
      "List= ['Kaivan', 'Kaivan', 'Loves', 'Mangoes', 'Hi']\n",
      "Tuple= ('Kaivan', 'Kaivan', 'Loves', 'Mangoes')\n",
      "<class 'tuple'>\n",
      "Changed Tuple= ('Kaivan', 'Kaivan', 'Loves', 'Mangoes', 'Hi')\n",
      "List1= ['Kaivan', 'Kaivan', 'Loves', 'Mangoes']\n",
      "Final Tuple= ('Kaivan', 'Kaivan', 'Loves', 'Mangoes', 'Hi')\n"
     ]
    }
   ],
   "source": [
    "##Type-Casting\n",
    "#Conversion of Tuple to List to add and remove elements\n",
    "thistuple = (\"Kaivan\",\"Kaivan\",\"Loves\",\"Mangoes\")\n",
    "print(type(thistuple))\n",
    "print(\"Tuple=\",thistuple)\n",
    "y = list(thistuple)\n",
    "print(type(y))\n",
    "y.append(\"Hi\")\n",
    "y.append(4)\n",
    "print(\"List=\",y)\n",
    "y.pop()\n",
    "print(\"List=\",y)\n",
    "print(\"Tuple=\",thistuple)\n",
    "thistuple = tuple(y)\n",
    "print(type(thistuple))\n",
    "print(\"Changed Tuple=\",thistuple)\n",
    "y.pop()\n",
    "print(\"List1=\",y)\n",
    "print(\"Final Tuple=\",thistuple)"
   ]
  },
  {
   "cell_type": "code",
   "execution_count": null,
   "id": "a1407949",
   "metadata": {},
   "outputs": [],
   "source": []
  },
  {
   "cell_type": "code",
   "execution_count": 100,
   "id": "b470f553",
   "metadata": {},
   "outputs": [
    {
     "name": "stdout",
     "output_type": "stream",
     "text": [
      "{'Hello', 1, 4, 'Kaivan', 'am', 'ok', 'I'}\n",
      "{'Hello', 1, 4, 'Kaivan', 'am', 'ok', 'I'}\n",
      "{'Hello', 1, 4, 'Kaivan', 'Aditya', 'am', 'ok', 'I'}\n",
      "<class 'set'>\n"
     ]
    },
    {
     "data": {
      "text/plain": [
       "{1, 4, 'Aditya', 'Hello', 'I', 'Kaivan', 'am', 'ok'}"
      ]
     },
     "execution_count": 100,
     "metadata": {},
     "output_type": "execute_result"
    }
   ],
   "source": [
    "set1={4,1,\"Hello\",\"I\",\"am\",\"Kaivan\",\"ok\"}\n",
    "print(set1)\n",
    "#set1.add(1)\n",
    "#set1.add(2)\n",
    "print(set1)\n",
    "set1.add(\"Aditya\")\n",
    "print(set1)\n",
    "print(type(set1))\n",
    "set1"
   ]
  },
  {
   "cell_type": "code",
   "execution_count": 101,
   "id": "7b6382a9",
   "metadata": {},
   "outputs": [
    {
     "name": "stdout",
     "output_type": "stream",
     "text": [
      "{'Brand': 'Ford', 'Model': 'Mustang', 'Year': 1964}\n",
      "{'Brand': 'Ferrari', 'Model': 'Mustang', 'Year': 1964, 'Brand2': 'Audi', 'Colour': 'Blue'}\n",
      "<class 'dict'>\n",
      "Ferrari\n",
      "Mustang\n",
      "1964\n",
      "Audi\n",
      "Blue\n"
     ]
    }
   ],
   "source": [
    "thisdict = {\"Brand\": \"Ford\",\"Model\": \"Mustang\",\"Year\": 1964}\n",
    "print(thisdict)\n",
    "thisdict[\"Brand\"]=\"Ferrari\";\n",
    "thisdict[\"Brand2\"]=\"Audi\";\n",
    "thisdict[\"Colour\"]=\"Blue\";\n",
    "print(thisdict)\n",
    "print(type(thisdict))\n",
    "for i in thisdict.values():\n",
    "    print(i)"
   ]
  },
  {
   "cell_type": "markdown",
   "id": "aca5880b",
   "metadata": {},
   "source": [
    "# Machine Learning\n",
    "## Supervised\n",
    "## UnSupervised\n",
    "## Semi-Supervised\n",
    "## Reinforcement"
   ]
  },
  {
   "cell_type": "code",
   "execution_count": 102,
   "id": "a4bd9e45",
   "metadata": {},
   "outputs": [],
   "source": [
    "list2 = [\"Hello\",\"Apple\"]"
   ]
  },
  {
   "cell_type": "code",
   "execution_count": null,
   "id": "6f511fab",
   "metadata": {},
   "outputs": [],
   "source": []
  }
 ],
 "metadata": {
  "kernelspec": {
   "display_name": "Python 3 (ipykernel)",
   "language": "python",
   "name": "python3"
  },
  "language_info": {
   "codemirror_mode": {
    "name": "ipython",
    "version": 3
   },
   "file_extension": ".py",
   "mimetype": "text/x-python",
   "name": "python",
   "nbconvert_exporter": "python",
   "pygments_lexer": "ipython3",
   "version": "3.12.4"
  }
 },
 "nbformat": 4,
 "nbformat_minor": 5
}
