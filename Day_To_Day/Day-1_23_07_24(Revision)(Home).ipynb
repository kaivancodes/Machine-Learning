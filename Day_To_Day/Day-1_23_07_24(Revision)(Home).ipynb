{
 "cells": [
  {
   "cell_type": "markdown",
   "id": "681f1ef2-4229-41ce-abf3-ba8f96d92035",
   "metadata": {},
   "source": [
    "# Revision\n",
    "## 23/07/24"
   ]
  },
  {
   "cell_type": "code",
   "execution_count": 9,
   "id": "29f4701e-fba3-4771-b5bd-29ed948f9a07",
   "metadata": {},
   "outputs": [
    {
     "name": "stdout",
     "output_type": "stream",
     "text": [
      "Kaivan\n"
     ]
    }
   ],
   "source": [
    "print (\"Kaivan\")"
   ]
  },
  {
   "cell_type": "markdown",
   "id": "980f7c4d-d823-4536-b825-453896c38577",
   "metadata": {},
   "source": [
    "## Check Versions"
   ]
  },
  {
   "cell_type": "code",
   "execution_count": 5,
   "id": "4e34d23f-05d4-43dc-b1fc-914b3dc4ebe8",
   "metadata": {},
   "outputs": [
    {
     "name": "stdout",
     "output_type": "stream",
     "text": [
      "3.12.4\n"
     ]
    }
   ],
   "source": [
    "from platform import python_version\n",
    "print(python_version ())"
   ]
  },
  {
   "cell_type": "code",
   "execution_count": 6,
   "id": "ae189ae5-0387-42e9-bdeb-a3db57a0c36c",
   "metadata": {},
   "outputs": [
    {
     "name": "stdout",
     "output_type": "stream",
     "text": [
      "3.12.4 (v3.12.4:8e8a4baf65, Jun  6 2024, 17:33:18) [Clang 13.0.0 (clang-1300.0.29.30)]\n"
     ]
    }
   ],
   "source": [
    "import sys\n",
    "print (sys.version)"
   ]
  },
  {
   "cell_type": "code",
   "execution_count": 1,
   "id": "9ef75d29-653b-4038-8009-19982b90ab55",
   "metadata": {},
   "outputs": [
    {
     "name": "stdout",
     "output_type": "stream",
     "text": [
      "2.2.2\n"
     ]
    }
   ],
   "source": [
    "import pandas as pd\n",
    "print(pd.__version__)"
   ]
  },
  {
   "cell_type": "code",
   "execution_count": null,
   "id": "f7031c1f-51b9-4420-8943-8f84d6dfab2e",
   "metadata": {},
   "outputs": [
    {
     "name": "stdout",
     "output_type": "stream",
     "text": [
      "1.26.4\n"
     ]
    }
   ],
   "source": [
    "import numpy as np\n",
    "print(np.__version__)"
   ]
  },
  {
   "cell_type": "markdown",
   "id": "421bb56e-9b01-4212-bc0a-f4a7788e1e2e",
   "metadata": {},
   "source": [
    "### Data\n",
    "### Information\n",
    "### Knowledge"
   ]
  },
  {
   "cell_type": "markdown",
   "id": "a5025059-f427-41e1-ba14-682b83308909",
   "metadata": {},
   "source": [
    "### Data in Machine Learning\n",
    "#### Training Data\n",
    "#### Validation Data\n",
    "#### Testing Data"
   ]
  },
  {
   "cell_type": "markdown",
   "id": "c776b0d6-a06e-4240-8567-aaa9c29fe558",
   "metadata": {},
   "source": [
    "## Collection in Python\n",
    "### 1.Lists\n",
    "### 2.Tuples\n",
    "### 3.Set\n",
    "### 4.Dictionaries"
   ]
  },
  {
   "cell_type": "markdown",
   "id": "56c1edaf-875f-41f6-a87b-1f909de289fb",
   "metadata": {},
   "source": [
    "## 1.Lists\n",
    "### Homogeneous\n",
    "### Changeable\n",
    "### Used for Arrays\n",
    "### Allow Duplicate Values"
   ]
  },
  {
   "cell_type": "code",
   "execution_count": 17,
   "id": "1f0c7cfd-7a44-43fa-9318-b97f10dfbede",
   "metadata": {},
   "outputs": [
    {
     "name": "stdout",
     "output_type": "stream",
     "text": [
      "[12, 13]\n",
      "Add [12, 13, 23, 24]\n",
      "Popped [12, 13, 23]\n",
      "<class 'list'>\n",
      "3\n",
      "New [12, 13, 23, 'Hello', 'By']\n",
      "Boolean [12, 13, 23, 'Hello', 'By', 24, True]\n",
      "7\n"
     ]
    }
   ],
   "source": [
    "i = [12,13]\n",
    "print (i)\n",
    "i. append (23)\n",
    "i.append (24)\n",
    "print (\"Add\", i)\n",
    "i.pop ( )\n",
    "print (\"Popped\", i)\n",
    "print (type (i))\n",
    "print(len(i))\n",
    "i.append('Hello')\n",
    "i.append('By')\n",
    "print(\"New\",i)\n",
    "i.append(24)\n",
    "i.append(True)\n",
    "print(\"Boolean\",i)\n",
    "print(len(i))"
   ]
  },
  {
   "cell_type": "markdown",
   "id": "c8c7d562-a5dd-4601-9ea7-e7d47882818a",
   "metadata": {},
   "source": [
    "## 2.Tuples\n",
    "### Homogeneous\n",
    "### UnChangeable\n",
    "### Allow Duplicate Values\n",
    "### SQL\n",
    "#### .append is unavailable"
   ]
  },
  {
   "cell_type": "code",
   "execution_count": 9,
   "id": "e28cbf12-f57b-4b81-a5cf-deffe5147a97",
   "metadata": {},
   "outputs": [
    {
     "name": "stdout",
     "output_type": "stream",
     "text": [
      "(1, 2, 3, 4)\n",
      "('Hello', 'I', 'am', 'Kaivan')\n",
      "('Bhargav', 'Prag', 'Kaivan', 1, 2, 3, 1)\n",
      "(True, False)\n",
      "<class 'tuple'>\n",
      "4\n"
     ]
    }
   ],
   "source": [
    "Tuple1 = (1,2,3,4)\n",
    "Tuple2 = (\"Hello\",\"I\",\"am\",\"Kaivan\")\n",
    "Tuple3 = (\"Bhargav\",\"Prag\",\"Kaivan\",1,2,3,1)\n",
    "Tuple4 = (True, False)\n",
    "print(Tuple1)\n",
    "print(Tuple2)\n",
    "print(Tuple3)\n",
    "print(Tuple4)\n",
    "print(type(Tuple3))\n",
    "print(len(Tuple2))"
   ]
  },
  {
   "cell_type": "markdown",
   "id": "a8ff5de0",
   "metadata": {},
   "source": [
    "## Type - Casting\n",
    "### Conversion of Tuple into List to add & remove elements (Vice-Versa)"
   ]
  },
  {
   "cell_type": "code",
   "execution_count": 10,
   "id": "7bef2fe8",
   "metadata": {},
   "outputs": [
    {
     "name": "stdout",
     "output_type": "stream",
     "text": [
      "Thistuple type: <class 'tuple'>\n",
      "Original Tuple: ('Best', 'of', 'Luck')\n",
      "Thistuple after Conversion: <class 'list'>\n",
      "List after Conversion: ['Best', 'of', 'Luck', 'Kaivan', 1, 2]\n",
      "Thistuple before Conversion: ('Best', 'of', 'Luck')\n",
      "Thistuple: <class 'tuple'>\n",
      "Thistuple after Conversion: ('Best', 'of', 'Luck', 'Kaivan', 1)\n"
     ]
    }
   ],
   "source": [
    "thistuple = (\"Best\", \"of\", \"Luck\")\n",
    "print(\"Thistuple type:\",type(thistuple))\n",
    "print(\"Original Tuple:\",thistuple)\n",
    "y = list(thistuple)\n",
    "print(\"Thistuple after Conversion:\",type(y))\n",
    "y.append(\"Kaivan\")\n",
    "y.append(1)\n",
    "y.append(2)\n",
    "print(\"List after Conversion:\",y)\n",
    "y.pop()\n",
    "print(\"Thistuple before Conversion:\",thistuple)\n",
    "thistuple = tuple(y)\n",
    "print(\"Thistuple:\",type(thistuple))\n",
    "print(\"Thistuple after Conversion:\",thistuple)"
   ]
  },
  {
   "cell_type": "markdown",
   "id": "9ccbb4a9",
   "metadata": {},
   "source": [
    "## 3.Set\n",
    "### Keeps in order\n",
    "### Changeable\n",
    "### Do not Allow Duplicate Values\n",
    "### Find Unique elements & Join"
   ]
  },
  {
   "cell_type": "code",
   "execution_count": 16,
   "id": "4a3950d9",
   "metadata": {},
   "outputs": [
    {
     "name": "stdout",
     "output_type": "stream",
     "text": [
      "{1, 'Kaivan'}\n",
      "<class 'set'>\n",
      "4\n",
      "Final Set: {1, 'Kaivan', 2, 'Hello'}\n"
     ]
    }
   ],
   "source": [
    "s = {\"Kaivan\",1}\n",
    "print(s)\n",
    "s.add(2)\n",
    "print(type(s))\n",
    "s.add(\"Hello\")\n",
    "s.add(\"Hello\")\n",
    "s.add(3)\n",
    "s.remove(3)\n",
    "print(len(s))\n",
    "print(\"Final Set:\",s)"
   ]
  },
  {
   "cell_type": "markdown",
   "id": "57c58059",
   "metadata": {},
   "source": [
    "## 4.Dictionaries\n",
    "### Keeps in order\n",
    "### Changeable\n",
    "### Do not Allow Duplicate Values\n",
    "### Create data frame with list"
   ]
  },
  {
   "cell_type": "markdown",
   "id": "150bd630",
   "metadata": {},
   "source": []
  },
  {
   "cell_type": "code",
   "execution_count": 19,
   "id": "70418e78",
   "metadata": {},
   "outputs": [
    {
     "name": "stdout",
     "output_type": "stream",
     "text": [
      "{'brand': 'Ford', 'model': 'Mustang', 'year': 1964}\n",
      "{'brand': 'Ford', 'model': 'Mustang', 'year': 1964, 'Brand': 'Ferrari', 'Brand2': 'Audi', 'Colour': 'Blue'}\n",
      "<class 'dict'>\n",
      "Ford\n",
      "Mustang\n",
      "1964\n",
      "Ferrari\n",
      "Audi\n",
      "Blue\n",
      "Dictionary {'brand': 'Ford', 'model': 'Mustang', 'year': 1964, 'Brand': 'Ferrari', 'Brand2': 'Audi', 'Colour': 'Blue', 5: 'Five', 10: 'Ten'}\n",
      "Dictionary {'brand': 'Ford', 'model': 'Mustang', 'year': 1964, 'Brand': 'Ferrari', 'Brand2': 'Audi', 'Colour': 'Blue', 5: 'Five'}\n",
      "7\n"
     ]
    }
   ],
   "source": [
    "thisdict = {\"brand\": \"Ford\",\"model\": \"Mustang\",\"year\": 1964}\n",
    "print(thisdict)\n",
    "\n",
    "thisdict[\"Brand\"]=\"Ferrari\";\n",
    "thisdict[\"Brand2\"]=\"Audi\";\n",
    "thisdict[\"Colour\"]=\"Blue\";\n",
    "print(thisdict)\n",
    "\n",
    "print(type(thisdict))\n",
    "\n",
    "for i in thisdict.values():\n",
    "    print(i)\n",
    "\n",
    "thisdict[5] = \"Five\"\n",
    "thisdict[10] = \"Ten\"\n",
    "print(\"Dictionary\", thisdict)\n",
    "\n",
    "del thisdict[10]\n",
    "print(\"Dictionary\", thisdict)\n",
    "print(len(thisdict))"
   ]
  },
  {
   "cell_type": "code",
   "execution_count": null,
   "id": "39870c52",
   "metadata": {},
   "outputs": [],
   "source": []
  }
 ],
 "metadata": {
  "kernelspec": {
   "display_name": "Python 3 (ipykernel)",
   "language": "python",
   "name": "python3"
  },
  "language_info": {
   "codemirror_mode": {
    "name": "ipython",
    "version": 3
   },
   "file_extension": ".py",
   "mimetype": "text/x-python",
   "name": "python",
   "nbconvert_exporter": "python",
   "pygments_lexer": "ipython3",
   "version": "3.12.4"
  }
 },
 "nbformat": 4,
 "nbformat_minor": 5
}
