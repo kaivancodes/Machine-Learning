{
 "cells": [
  {
   "cell_type": "code",
   "execution_count": null,
   "metadata": {
    "colab": {
     "base_uri": "https://localhost:8080/"
    },
    "id": "trlIJulm47QZ",
    "outputId": "b4fa7ccb-8d28-4ebf-96c6-73b8d2612c08"
   },
   "outputs": [],
   "source": [
    "#Create a list\n",
    "thislist = [\"apple\", \"banana\", \"cherry\"]\n",
    "print(thislist)"
   ]
  },
  {
   "cell_type": "code",
   "execution_count": null,
   "metadata": {
    "colab": {
     "base_uri": "https://localhost:8080/"
    },
    "id": "yzWLzWX05J0b",
    "outputId": "099786fa-51d6-432d-cb27-d872682916aa"
   },
   "outputs": [],
   "source": [
    "#Lists allow duplicate values:\n",
    "thislist = [\"apple\", \"banana\", \"cherry\", \"apple\", \"cherry\"]\n",
    "print(thislist)"
   ]
  },
  {
   "cell_type": "code",
   "execution_count": null,
   "metadata": {
    "colab": {
     "base_uri": "https://localhost:8080/"
    },
    "id": "bamD9oZq5POS",
    "outputId": "42ab5616-0137-4fc7-f498-3766af267f48"
   },
   "outputs": [],
   "source": [
    "#Lists lenght with duplicate values:\n",
    "thislist = [\"apple\", \"banana\", \"cherry\", \"apple\", \"cherry\"]\n",
    "print(thislist)\n",
    "print(len(thislist))"
   ]
  },
  {
   "cell_type": "code",
   "execution_count": null,
   "metadata": {
    "colab": {
     "base_uri": "https://localhost:8080/"
    },
    "id": "I4wHoAvE6JkX",
    "outputId": "f74ac446-d83e-4216-8c17-b2b562e5c4a0"
   },
   "outputs": [],
   "source": [
    "#What is the data type of a list?\n",
    "#From Python's perspective, lists are defined as objects with the data type 'list':\n",
    "print(type(thislist))"
   ]
  },
  {
   "cell_type": "code",
   "execution_count": null,
   "metadata": {
    "colab": {
     "base_uri": "https://localhost:8080/"
    },
    "id": "zQi1U26w5m_0",
    "outputId": "75f77f0b-7940-44b6-e758-841c021ba6b6"
   },
   "outputs": [],
   "source": [
    "#A list with strings, integers and boolean values (non-homogeneous):\n",
    "list1 = [\"abc\", 34, True, 40, \"male\"]\n",
    "print(len(list1))\n",
    "print((list1))"
   ]
  },
  {
   "cell_type": "code",
   "execution_count": null,
   "metadata": {
    "colab": {
     "base_uri": "https://localhost:8080/"
    },
    "id": "NXXbpFOXxSZU",
    "outputId": "71289037-22d9-4176-8dd8-64bedfd42547"
   },
   "outputs": [],
   "source": [
    "# Python3 program for explaining\n",
    "# use of list, tuple, set and\n",
    "# dictionary\n",
    "\n",
    "# Lists\n",
    "l = []\n",
    "\n",
    "# Adding Element into list\n",
    "l.append(5)\n",
    "l.append(10)\n",
    "print(\"Adding 5 and 10 in list\", l)\n",
    "print(type(l))\n",
    "\n",
    "# Popping Elements from list\n",
    "l.pop()\n",
    "print(\"Popped one element from list\", l)\n",
    "print()\n",
    "\n",
    "# Set\n",
    "s = set()\n",
    "\n",
    "# Adding element into set\n",
    "s.add(5)\n",
    "s.add(10)\n",
    "print(\"Adding 5 and 10 in set\", s)\n",
    "print(type(s))\n",
    "\n",
    "# Removing element from set\n",
    "s.remove(5)\n",
    "print(\"Removing 5 from set\", s)\n",
    "print()\n",
    "\n",
    "# Tuple\n",
    "t = tuple(l)\n",
    "\n",
    "# Tuples are immutable\n",
    "print(\"Tuple\", t)\n",
    "print(type(t))\n",
    "\n",
    "# Dictionary\n",
    "d = {}\n",
    "\n",
    "# Adding the key value pair\n",
    "d[5] = \"Five\"\n",
    "d[10] = \"Ten\"\n",
    "print(\"Dictionary\", d)\n",
    "\n",
    "# Removing key-value pair\n",
    "del d[10]\n",
    "print(\"Dictionary\", d)\n",
    "print(type(d))"
   ]
  },
  {
   "cell_type": "code",
   "execution_count": null,
   "metadata": {
    "id": "Czu5H2j33VGg"
   },
   "outputs": [],
   "source": [
    "tuple1 = (\"apple\", \"banana\", \"cherry\")\n",
    "tuple2 = (1, 5, 7, 9, 3)\n",
    "tuple3 = (True, False, False)"
   ]
  },
  {
   "cell_type": "code",
   "execution_count": null,
   "metadata": {
    "colab": {
     "base_uri": "https://localhost:8080/"
    },
    "id": "UFsSNdYs3XCu",
    "outputId": "6f03ddd8-bde3-4ae4-9e6f-bc5102c26e4e"
   },
   "outputs": [],
   "source": [
    "print(tuple1)"
   ]
  },
  {
   "cell_type": "code",
   "execution_count": null,
   "metadata": {
    "colab": {
     "base_uri": "https://localhost:8080/"
    },
    "id": "cahbacrX3aWg",
    "outputId": "2d8824e4-e2e6-4e02-d15b-5fe6fecce8ce"
   },
   "outputs": [],
   "source": [
    "print(tuple2)\n",
    "print(tuple3)"
   ]
  },
  {
   "cell_type": "code",
   "execution_count": null,
   "metadata": {
    "colab": {
     "base_uri": "https://localhost:8080/"
    },
    "id": "G3OnUQlnxe72",
    "outputId": "8132d9cb-a333-49a2-c8c9-1357c79b0d14"
   },
   "outputs": [],
   "source": [
    "thistuple = (\"apple\", \"banana\", \"cherry\")\n",
    "print(type(thistuple))\n",
    "print(thistuple)\n",
    "y = list(thistuple)\n",
    "print(type((y)))\n",
    "y.append(\"orange\")\n",
    "print(y)\n",
    "thistuple = tuple(y)\n",
    "print(type(thistuple))\n",
    "print(thistuple)"
   ]
  },
  {
   "cell_type": "code",
   "execution_count": null,
   "metadata": {
    "colab": {
     "base_uri": "https://localhost:8080/"
    },
    "id": "b3_cnfRm1w1L",
    "outputId": "cf4566df-8d6f-472d-96ca-b39ce95f60d9"
   },
   "outputs": [],
   "source": [
    "thisdict = {\n",
    "  \"brand\": \"Ford\",\n",
    "  \"model\": \"Mustang\",\n",
    "  \"year\": 1964\n",
    "}\n",
    "print(thisdict[\"brand\"])"
   ]
  },
  {
   "cell_type": "code",
   "execution_count": null,
   "metadata": {
    "id": "22dO1VJe45a8"
   },
   "outputs": [],
   "source": [
    "print(thisdict)"
   ]
  },
  {
   "cell_type": "code",
   "execution_count": null,
   "metadata": {},
   "outputs": [],
   "source": []
  }
 ],
 "metadata": {
  "colab": {
   "provenance": []
  },
  "kernelspec": {
   "display_name": "Python 3 (ipykernel)",
   "language": "python",
   "name": "python3"
  },
  "language_info": {
   "codemirror_mode": {
    "name": "ipython",
    "version": 3
   },
   "file_extension": ".py",
   "mimetype": "text/x-python",
   "name": "python",
   "nbconvert_exporter": "python",
   "pygments_lexer": "ipython3",
   "version": "3.12.4"
  }
 },
 "nbformat": 4,
 "nbformat_minor": 4
}
